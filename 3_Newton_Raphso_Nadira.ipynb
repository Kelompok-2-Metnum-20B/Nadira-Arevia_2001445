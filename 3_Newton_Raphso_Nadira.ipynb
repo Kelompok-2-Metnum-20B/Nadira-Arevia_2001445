{
  "nbformat": 4,
  "nbformat_minor": 0,
  "metadata": {
    "colab": {
      "provenance": []
    },
    "kernelspec": {
      "name": "python3",
      "display_name": "Python 3"
    },
    "language_info": {
      "name": "python"
    }
  },
  "cells": [
    {
      "cell_type": "markdown",
      "source": [
        "**Newton Raphson - Cara 1**\n"
      ],
      "metadata": {
        "id": "kb96hjXosaVV"
      }
    },
    {
      "cell_type": "code",
      "source": [
        "import numpy as np #panggil library\n",
        "def my_newton(f, df, x0, e):\n",
        "# output is an estimation of the root of f\n",
        "# using the Newton-Raphson method\n",
        "# recursive implementation\n",
        "  if abs(f(x0)) < e: #jika f(x0) < e maka return nilai x0\n",
        "    return x0\n",
        "  else:\n",
        "    return my_newton(f, df, x0 - f(x0)/df(x0), e) #memanggil function my_newton dengan parameter\n",
        "\n",
        "\n",
        "f = lambda x: x**2-2*x-8 #mendefinisikan f(x)=x^2-2x-8\n",
        "f_prime = lambda x: 2*x-2 #mendefinisikan turunan persamaan\n",
        "estimate = my_newton(f, f_prime, 4.5, 1e-6) #memanggil function my_newton \n",
        "print(\"estimate =\", estimate) #print hasil estimate dari hasil perhitungan di my_newton\n",
        "print(\"sqrt(2) =\",np.sqrt(2)) #print hasil akar dari hasil perhitungan di my_newton "
      ],
      "metadata": {
        "id": "O3DikTeDslEL"
      },
      "execution_count": null,
      "outputs": []
    },
    {
      "cell_type": "markdown",
      "source": [
        "**Cara 2**"
      ],
      "metadata": {
        "id": "XxYngKXntFD7"
      }
    },
    {
      "cell_type": "code",
      "source": [
        "#definisi fungsi persamaan\n",
        "def f(x):\n",
        "    return x**2-2*x-8\n",
        "\n",
        "# definisi derivative dari fungsi persamaan\n",
        "def g(x):\n",
        "    return 2*x-2\n",
        "\n",
        "#definis fungsi newtonRaphson\n",
        "def newtonRaphson(x0,e,maxInter):\n",
        "    print('** NEWTON RAPHSON METHOD **')\n",
        "    step = 1 #jumlah iterasi\n",
        "    flag = 1\n",
        "    condition = True\n",
        "    while condition: #looping kondisi \n",
        "        if g(x0) == 0.0:\n",
        "            print('Dibagi nol=error!')\n",
        "            break\n",
        "        \n",
        "        x1 = x0 - f(x0)/g(x0)\n",
        "        print('Iterasi-%d, x1 = %0.6f and f(x1) = %0.4f' % (step, x1, f(x1)))\n",
        "        x0 = x1\n",
        "        step = step + 1\n",
        "        \n",
        "        if step > maxInter:\n",
        "            flag = 0\n",
        "            break\n",
        "        \n",
        "        condition = abs(f(x1)) > e\n",
        "\n",
        "        if flag==1:\n",
        "          print('\\nAkar : %0.4f' % x1)\n",
        "        else:\n",
        "            print('\\nTidak Konvergen.')\n",
        "        \n",
        "x0=4.5 #nilai interval\n",
        "e=0.00001 #galat\n",
        "maxInter=4 #jumlah maximal iterasi\n",
        "\n",
        "#memanggil function newtonRaphson dengan parameter \n",
        "newtonRaphson(x0,e,maxInter)"
      ],
      "metadata": {
        "colab": {
          "base_uri": "https://localhost:8080/"
        },
        "id": "okMvXQlHtH4I",
        "outputId": "2024c0fd-0385-4270-f364-613b4e107799"
      },
      "execution_count": 1,
      "outputs": [
        {
          "output_type": "stream",
          "name": "stdout",
          "text": [
            "** NEWTON RAPHSON METHOD **\n",
            "Iterasi-1, x1 = 4.035714 and f(x1) = 0.2156\n",
            "\n",
            "Akar : 4.0357\n",
            "Iterasi-2, x1 = 4.000210 and f(x1) = 0.0013\n",
            "\n",
            "Akar : 4.0002\n",
            "Iterasi-3, x1 = 4.000000 and f(x1) = 0.0000\n",
            "\n",
            "Akar : 4.0000\n"
          ]
        }
      ]
    },
    {
      "cell_type": "markdown",
      "source": [
        "Nadira Arevia 2001445\n",
        "PILKOM 5B"
      ],
      "metadata": {
        "id": "t93pP0pduFm4"
      }
    }
  ]
}