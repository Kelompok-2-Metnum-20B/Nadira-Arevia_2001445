{
  "nbformat": 4,
  "nbformat_minor": 0,
  "metadata": {
    "colab": {
      "provenance": []
    },
    "kernelspec": {
      "name": "python3",
      "display_name": "Python 3"
    },
    "language_info": {
      "name": "python"
    }
  },
  "cells": [
    {
      "cell_type": "markdown",
      "source": [
        "## **Akar Persamaan Non-Linier**\n",
        "Berikut ini merupakan fungsi dasar dari metode yang dapat digunakan untuk mencari akar Persamaan non-Linier\n",
        "\n",
        "**Penjelasan fungsi atau keyword**\n",
        "- Fungsi abs() mengembalikan nilai absolut dari angka yang diberikan. Jika bilangan tersebut adalah bilangan kompleks, abs() mengembalikan besarnya.\n",
        "- keyword np.sign(f(a)) artinya memanggil fungsi persamaan a\n",
        "- Fungsi Lambda, juga disebut sebagai 'Fungsi anonim' sama dengan fungsi python biasa tetapi dapat didefinisikan tanpa nama. Sementara fungsi normal didefinisikan menggunakan kata kunci def, fungsi anonim didefinisikan menggunakan kata kunci lambda.\n",
        "- SciPy adalah library Python open-source yang digunakan untuk memecahkan masalah ilmiah dan matematika\n",
        "- keyword fslove() berfungsi mencari akar-akar suatu fungsi. Lalu mereturn akar persamaan (non-linier) yang ditentukan oleh func(x) = 0 dengan perkiraan awal.\n",
        "\n",
        "**Penjelasan Variable**\n",
        "f = menyimpan fungsi persaaan non-linear\n",
        "a = interval a \n",
        "b = interval b\n",
        "m = titik tengah\n",
        "f(a) = hasil fungsi persamaan non-linear interval a\n",
        "f(b) = hasil fungsi persamaan non-linear interval b\n",
        "f(m) = hasil fungsi persamaan non-linear titik tengah m"
      ],
      "metadata": {
        "id": "Tlb0XvJxS_oW"
      }
    },
    {
      "cell_type": "markdown",
      "source": [
        "**Pencarian Akar dengan Library**\n",
        "\n",
        "Contoh Fungsi: f(x) = cos(x)-x"
      ],
      "metadata": {
        "id": "8zXDT3F6UTm8"
      }
    },
    {
      "cell_type": "code",
      "source": [
        "import numpy as np #pemanggilan library numpy yang diberi nama np\n",
        "from scipy import optimize #pemanggilan library scipy yang diberi nama optimize\n",
        "f = lambda x: np.cos(x) - x #memasukkan persamaan non-linear cos(x)-x ke var f\n",
        "r = optimize.fsolve(f, -3) #melakukan pencarian akar persamaan dari fungsi yang bernilai x yang kemudian hasilnya di assign ke var r\n",
        "print(\"r =\",r)\n",
        "# Verify the solution is a root\n",
        "result = f(r)\n",
        "print(\"result=\", result)"
      ],
      "metadata": {
        "colab": {
          "base_uri": "https://localhost:8080/"
        },
        "id": "gMnlEqjjUnAa",
        "outputId": "9b1d9333-b4c6-4df4-cdd1-cb8a84487b1c"
      },
      "execution_count": 2,
      "outputs": [
        {
          "output_type": "stream",
          "name": "stdout",
          "text": [
            "r = [0.73908513]\n",
            "result= [2.55351296e-15]\n"
          ]
        }
      ]
    },
    {
      "cell_type": "markdown",
      "source": [
        "**Metode Bagi Dua**"
      ],
      "metadata": {
        "id": "ySxrsdzGTn0Z"
      }
    },
    {
      "cell_type": "code",
      "execution_count": 1,
      "metadata": {
        "id": "j7lAxfNeS9M0"
      },
      "outputs": [],
      "source": [
        "import numpy as np #panggil library\n",
        "def my_bisection(f, a, b, e): #deklarasi function my_bisection dengan parameter formal f,a,b,c\n",
        "  if np.sign(f(a)) == np.sign(f(b)): #cek apakah f(a) == f(b)\n",
        "    raise Exception('Tidak ada akar pada interval a dan b') \n",
        "  m = (a + b)/2 #perhitungan titik tengah (c) \n",
        "  if np.abs(f(m)) < e: #cek apakah f(m) < e \n",
        "    return m #mengembalikan nilai m\n",
        "  elif np.sign(f(a)) == np.sign(f(m)): #cek jika f(a) == f(m)\n",
        "    return my_bisection(f, m, b, e) #memanggil function my_bisection dengan membawa nilai paramater aktual f,m,b,e\n",
        "  elif np.sign(f(b)) == np.sign(f(m)): #cek apakah f(b) == f(m)\n",
        "    return my_bisection(f, a, m, e) #memanggil function my_bisection dengan membawa nilai paramater aktual f,m,b,e"
      ]
    },
    {
      "cell_type": "markdown",
      "source": [
        "**Contoh Pencarian Akar dengan Metode Bagi Dua**\n",
        "\n",
        "f(x)=x^2 - 2"
      ],
      "metadata": {
        "id": "QK5X5eINXZln"
      }
    },
    {
      "cell_type": "code",
      "source": [
        "import numpy as np #panggil library\n",
        "f = lambda x: x**2-2 #men-assign persamaan non-linear x2-2\n",
        "\n",
        "r1 = my_bisection(f, 0, 6, 0.4) #pemanggilan fungsi my_bisection dengan paramater aktual (f, 0,6,0.4)\n",
        "print(\"r1 =\", r1) #print hasil perhitungan r1 alias hasil perhitungan fungsi my_bisection \n",
        "print(\"f(r1) =\", f(r1)) #print hasil perhitungan fungsi f(r1) \n",
        "\n",
        "r01 = my_bisection(f, 0, 10, 0.08) #pemanggilan fungsi my_bisection dengan paramater aktual (f, 0,10,0.08)\n",
        "print(\"r01 =\", r01) #print hasil perhitungan r01 alias hasil perhitungan fungsi my_bisection\n",
        "print(\"f(r01) =\", f(r01))  #print hasil perhitungan fungsi f(r01) "
      ],
      "metadata": {
        "colab": {
          "base_uri": "https://localhost:8080/"
        },
        "id": "eJr_l7e2XyM0",
        "outputId": "3f10c9d0-26d5-4824-8d2e-97b7ae153222"
      },
      "execution_count": null,
      "outputs": [
        {
          "output_type": "stream",
          "name": "stdout",
          "text": [
            "r1 = 1.5\n",
            "f(r1) = 0.25\n",
            "r01 = 1.40625\n",
            "f(r01) = -0.0224609375\n"
          ]
        }
      ]
    },
    {
      "cell_type": "code",
      "source": [
        "import numpy as np #panggil library\n",
        "f = lambda x: x**2-2 #men-assign persamaan non-linear x2-2\n",
        "my_bisection(f, 2, 4, 0.01)  #pemanggilan fungsi my_bisection dengan paramater aktual (f, 2, 4, 0.01)\n"
      ],
      "metadata": {
        "colab": {
          "base_uri": "https://localhost:8080/"
        },
        "id": "wXEmWDL3Yh1R",
        "outputId": "854dc3a5-76c1-4235-823d-e186b446f7bc"
      },
      "execution_count": 3,
      "outputs": [
        {
          "output_type": "execute_result",
          "data": {
            "text/plain": [
              "1.40625"
            ]
          },
          "metadata": {},
          "execution_count": 3
        }
      ]
    },
    {
      "cell_type": "markdown",
      "source": [
        "**Metode Newton-Raphson**"
      ],
      "metadata": {
        "id": "uqd3qNtxS939"
      }
    },
    {
      "cell_type": "code",
      "source": [
        "import numpy as np #panggil library\n",
        "def my_newton(f, df, x0, e):\n",
        "# output is an estimation of the root of f\n",
        "# using the Newton-Raphson method\n",
        "# recursive implementation\n",
        "  if abs(f(x0)) < e:\n",
        "    return x0\n",
        "  else:\n",
        "    return my_newton(f, df, x0 - f(x0)/df(x0), e)"
      ],
      "metadata": {
        "id": "NWM7-9tpVr0a"
      },
      "execution_count": null,
      "outputs": []
    },
    {
      "cell_type": "markdown",
      "source": [
        "**Contoh Pencarian Akar dengan Metode Bagi Dua**\n",
        "\n",
        "f(x)=x^2 - 2"
      ],
      "metadata": {
        "id": "ffztAnc9ZbtI"
      }
    },
    {
      "cell_type": "code",
      "source": [
        "f = lambda x: x**2-2\n",
        "f_prime = lambda x: 2*x\n",
        "estimate = my_newton(f, f_prime, 1.5, 1e-6)\n",
        "print(\"estimate =\", estimate)\n",
        "print(\"sqrt(2) =\",np.sqrt(2))"
      ],
      "metadata": {
        "colab": {
          "base_uri": "https://localhost:8080/"
        },
        "id": "zFJnxIytZhln",
        "outputId": "e6d71caf-ed8a-4bd9-8946-7e39709d49c1"
      },
      "execution_count": null,
      "outputs": [
        {
          "output_type": "stream",
          "name": "stdout",
          "text": [
            "estimate = 1.4142135623746899\n",
            "sqrt(2) = 1.4142135623730951\n"
          ]
        }
      ]
    },
    {
      "cell_type": "markdown",
      "source": [
        "# **Latihan**"
      ],
      "metadata": {
        "id": "_l79MbNaaO9N"
      }
    },
    {
      "cell_type": "markdown",
      "source": [
        "**No.1 **\n",
        "Buatlah sebuah fungsi penyelesaian yang tepat baik dengan menggunakan metode Bagi Dua maupun Newton Raphson ketika \n",
        "\n",
        "a. f(x) = x^3 - 2x + 1\n",
        "\n",
        "b. f(x) = e^x - x\n",
        "\n",
        "**No 2**\n",
        "\n",
        "Buatlah modifikasi fungsi ketika kriteria program berhenti adalah sudah mencapai pada iterasi ke-n baik untuk Bagi Dua maupun Newton Raphson"
      ],
      "metadata": {
        "id": "XX6f9MQOaTas"
      }
    },
    {
      "cell_type": "code",
      "source": [],
      "metadata": {
        "id": "MjocESJra-b5"
      },
      "execution_count": null,
      "outputs": []
    }
  ]
}